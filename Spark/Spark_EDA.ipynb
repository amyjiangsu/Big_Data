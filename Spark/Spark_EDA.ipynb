{
 "cells": [
  {
   "cell_type": "markdown",
   "metadata": {},
   "source": [
    "# Conducting EDA in Spark\n",
    "\n",
    "EDA is a critical part of the data science process, in this example I will show you how to \n",
    "\n",
    "1. Read in the data\n",
    "2. Transform it to a functional state\n",
    "3. Conduct EDA (five num summary, grouping, crosstabs) \n",
    "4. Create a histogram"
   ]
  },
  {
   "cell_type": "code",
   "execution_count": 1,
   "metadata": {
    "collapsed": false
   },
   "outputs": [
    {
     "name": "stdout",
     "output_type": "stream",
     "text": [
      "Populating the interactive namespace from numpy and matplotlib\n"
     ]
    }
   ],
   "source": [
    "import getspark\n",
    "from IPython.display import Image\n",
    "from pyspark import SparkContext \n",
    "from pyspark.sql import SQLContext\n",
    "from pyspark.sql.types import *\n",
    "from pyspark.sql import Row\n",
    "import matplotlib.pyplot as plt\n",
    "import pandas as pd\n",
    "\n",
    "%pylab inline"
   ]
  },
  {
   "cell_type": "code",
   "execution_count": 2,
   "metadata": {
    "collapsed": false
   },
   "outputs": [],
   "source": [
    "sc = SparkContext()\n",
    "sqlContext = SQLContext(sc)"
   ]
  },
  {
   "cell_type": "code",
   "execution_count": 3,
   "metadata": {
    "collapsed": false
   },
   "outputs": [],
   "source": [
    "rdd = sc.textFile(r\"C:\\Spark\\clickinfo.csv\")\n",
    "#Split it by its delimiter\n",
    "rdd = rdd.map(lambda line: line.split(\",\")) #split it up by comma -transformation\n",
    "#Strip out the header\n",
    "header = rdd.first() #extract header\n",
    "data = rdd.filter(lambda x:x !=header) #review the headerless rdd"
   ]
  },
  {
   "cell_type": "code",
   "execution_count": 4,
   "metadata": {
    "collapsed": true
   },
   "outputs": [],
   "source": [
    "#function to \n",
    "def signedin(clicks):\n",
    "    if clicks == '0':\n",
    "        return \"Not_Signed_In\"\n",
    "    else: \n",
    "        return \"Signed_In\""
   ]
  },
  {
   "cell_type": "code",
   "execution_count": 5,
   "metadata": {
    "collapsed": false
   },
   "outputs": [],
   "source": [
    "clicksmappd = data.map(lambda line: Row(user_id = str(line[0]), \n",
    "                              clicks = int(line[1]), \n",
    "                              impression=int(line[2]), \n",
    "                              signedin=signedin(line[3]))).toDF()"
   ]
  },
  {
   "cell_type": "markdown",
   "metadata": {},
   "source": [
    "#### EDA One:  Looking up the frequency of events\n",
    "\n",
    "It is possible to approximate the frequecy that something occurs.  This can be done using the **.freqItems()** argument.  Note that this algorithm is an approximation, and may produce some false positives.  In this count we see if people are more often signed in or out"
   ]
  },
  {
   "cell_type": "code",
   "execution_count": 6,
   "metadata": {
    "collapsed": false
   },
   "outputs": [],
   "source": [
    "freqcount = clicksmappd.freqItems(['signedin'], 0.7).collect() #0.7 is the frequency proportion (minimum proportion of rows)"
   ]
  },
  {
   "cell_type": "code",
   "execution_count": 7,
   "metadata": {
    "collapsed": false
   },
   "outputs": [
    {
     "data": {
      "text/plain": [
       "Row(signedin_freqItems=[u'Signed_In'])"
      ]
     },
     "execution_count": 7,
     "metadata": {},
     "output_type": "execute_result"
    }
   ],
   "source": [
    "freqcount[0]"
   ]
  },
  {
   "cell_type": "markdown",
   "metadata": {},
   "source": [
    "#### EDA Two: Grouping and summarizing\n",
    "\n",
    "Spark dataframes allow you to group and summarize data the same way you would with pandas data frames.  Another useful function is to create cross tabs, which transforms the dataframe from long to wide.  Crosstabs show what values occur in what columns related to one another.  "
   ]
  },
  {
   "cell_type": "code",
   "execution_count": 8,
   "metadata": {
    "collapsed": false
   },
   "outputs": [
    {
     "name": "stdout",
     "output_type": "stream",
     "text": [
      "+------+-------------+-----+\n",
      "|clicks|     signedin|count|\n",
      "+------+-------------+-----+\n",
      "|     0|    Signed_In|40363|\n",
      "|     0|Not_Signed_In|16244|\n",
      "|     1|    Signed_In| 2992|\n",
      "|     1|Not_Signed_In| 2507|\n",
      "+------+-------------+-----+\n",
      "\n"
     ]
    }
   ],
   "source": [
    "clicksmappd.groupby(['clicks', 'signedin']).count().show()"
   ]
  },
  {
   "cell_type": "code",
   "execution_count": 9,
   "metadata": {
    "collapsed": false
   },
   "outputs": [
    {
     "name": "stdout",
     "output_type": "stream",
     "text": [
      "+---------------+---------+-------------+\n",
      "|clicks_signedin|Signed_In|Not_Signed_In|\n",
      "+---------------+---------+-------------+\n",
      "|              1|     2992|         2507|\n",
      "|              0|    40363|        16244|\n",
      "+---------------+---------+-------------+\n",
      "\n"
     ]
    }
   ],
   "source": [
    "clicksmappd.crosstab('clicks', 'signedin').show()"
   ]
  },
  {
   "cell_type": "markdown",
   "metadata": {},
   "source": [
    "#### EDA Three: The five number summary\n",
    "\n",
    "Spark can create summary statistics from dataframes as well.  This is accomplished using the **.describe()** function."
   ]
  },
  {
   "cell_type": "code",
   "execution_count": 10,
   "metadata": {
    "collapsed": false
   },
   "outputs": [
    {
     "name": "stdout",
     "output_type": "stream",
     "text": [
      "+-------+-------------------+------------------+\n",
      "|summary|             clicks|        impression|\n",
      "+-------+-------------------+------------------+\n",
      "|  count|              62106|             62106|\n",
      "|   mean|0.08854216983866293| 5.008968537661418|\n",
      "| stddev| 0.2840817734366714|2.2360679937899053|\n",
      "|    min|                  0|                 0|\n",
      "|    max|                  1|                18|\n",
      "+-------+-------------------+------------------+\n",
      "\n"
     ]
    }
   ],
   "source": [
    "clicksmappd.describe('clicks','impression').show()"
   ]
  },
  {
   "cell_type": "markdown",
   "metadata": {
    "collapsed": true
   },
   "source": [
    "**EDA Four: Histogram**\n",
    "\n",
    "A histogram is a very powerful visualization that summarizes discrete or continuous data. It allows for the distribution and nature of the data to be visualized and explored. Creating histograms should be considered a requisite step for conducting EDA on numerical data, this is accomplished by writing a custom functions that completes the following steps.\n",
    "Groups the data by numeric value within the dataframe\n",
    "Converts the Spark dataframe to a Pandas dataframe that is stored on the local machine.\n",
    "Creates the visualization from the locally stored dataframe\n",
    "\n",
    "1. Groups the data by numeric value within the dataframe\n",
    "2. Converts the Spark dataframe to a Pandas dataframe which is then stored on the local machine.\n",
    "3. Creates the visualization from the locally stored dataframe"
   ]
  },
  {
   "cell_type": "code",
   "execution_count": 11,
   "metadata": {
    "collapsed": false
   },
   "outputs": [],
   "source": [
    "#funtion to make a histogram, kind(s) include: 'bar', 'box', and 'density\n",
    "def spark_histogram(df, column):\n",
    "    counts = df.groupby(column).count()\n",
    "    df = counts.toPandas()\n",
    "    df[column] = df.impression.astype(float) #Specify the column here\n",
    "    return df.sort_values(column).set_index(column).iloc[:50,:].plot(kind='bar', figsize=(14,5))"
   ]
  },
  {
   "cell_type": "code",
   "execution_count": 12,
   "metadata": {
    "collapsed": false
   },
   "outputs": [
    {
     "data": {
      "text/plain": [
       "<matplotlib.axes._subplots.AxesSubplot at 0x8f3bd50>"
      ]
     },
     "execution_count": 12,
     "metadata": {},
     "output_type": "execute_result"
    },
    {
     "data": {
      "image/png": "[encoded data removed]",
      "text/plain": [
       "<matplotlib.figure.Figure at 0x340acf0>"
      ]
     },
     "metadata": {},
     "output_type": "display_data"
    }
   ],
   "source": [
    "spark_histogram(clicksmappd, 'impression')"
   ]
  },
  {
   "cell_type": "code",
   "execution_count": 13,
   "metadata": {
    "collapsed": true
   },
   "outputs": [],
   "source": [
    "# massive outliers, will skew histogram buckets\n",
    "no_out_df = clicksmappd.filter(clicksmappd['impression'] < 12)"
   ]
  },
  {
   "cell_type": "code",
   "execution_count": 14,
   "metadata": {
    "collapsed": false
   },
   "outputs": [
    {
     "data": {
      "text/plain": [
       "<matplotlib.axes._subplots.AxesSubplot at 0x91a1df0>"
      ]
     },
     "execution_count": 14,
     "metadata": {},
     "output_type": "execute_result"
    },
    {
     "data": {
      "image/png": "[encoded data removed]",
      "text/plain": [
       "<matplotlib.figure.Figure at 0x9267fb0>"
      ]
     },
     "metadata": {},
     "output_type": "display_data"
    }
   ],
   "source": [
    "spark_histogram(no_out_df, 'impression')"
   ]
  }
 ],
 "metadata": {
  "kernelspec": {
   "display_name": "Python 2",
   "language": "python",
   "name": "python2"
  },
  "language_info": {
   "codemirror_mode": {
    "name": "ipython",
    "version": 2
   },
   "file_extension": ".py",
   "mimetype": "text/x-python",
   "name": "python",
   "nbconvert_exporter": "python",
   "pygments_lexer": "ipython2",
   "version": "2.7.11"
  }
 },
 "nbformat": 4,
 "nbformat_minor": 0
}
